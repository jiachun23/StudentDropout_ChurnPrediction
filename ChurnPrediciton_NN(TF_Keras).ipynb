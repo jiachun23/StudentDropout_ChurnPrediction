{
  "nbformat": 4,
  "nbformat_minor": 0,
  "metadata": {
    "colab": {
      "name": "ChurnPrediciton_NN(TF_Keras).ipynb",
      "provenance": [],
      "authorship_tag": "ABX9TyNQ4ZqXiHsmwLwj80cddvlO",
      "include_colab_link": true
    },
    "kernelspec": {
      "name": "python3",
      "display_name": "Python 3"
    },
    "language_info": {
      "name": "python"
    },
    "accelerator": "GPU"
  },
  "cells": [
    {
      "cell_type": "markdown",
      "metadata": {
        "id": "view-in-github",
        "colab_type": "text"
      },
      "source": [
        "<a href=\"https://colab.research.google.com/github/jiachun23/StudentDropout_ChurnPrediction/blob/main/ChurnPrediciton_NN(TF_Keras).ipynb\" target=\"_parent\"><img src=\"https://colab.research.google.com/assets/colab-badge.svg\" alt=\"Open In Colab\"/></a>"
      ]
    },
    {
      "cell_type": "code",
      "metadata": {
        "colab": {
          "base_uri": "https://localhost:8080/"
        },
        "id": "DgvtejqjjkWl",
        "outputId": "64e50d16-873f-4382-e39c-95122faf0e38"
      },
      "source": [
        "from google.colab import drive\n",
        "drive.mount('/content/drive/')"
      ],
      "execution_count": 1,
      "outputs": [
        {
          "output_type": "stream",
          "name": "stdout",
          "text": [
            "Mounted at /content/drive/\n"
          ]
        }
      ]
    },
    {
      "cell_type": "code",
      "metadata": {
        "id": "JGgZwZ3Hjlso"
      },
      "source": [
        "# Importing packages\n",
        "import numpy as np\n",
        "import pandas as pd\n",
        "import seaborn as sns\n",
        "from matplotlib.colors import ListedColormap\n",
        "import matplotlib.pyplot as plt\n",
        "%matplotlib inline"
      ],
      "execution_count": 2,
      "outputs": []
    },
    {
      "cell_type": "code",
      "metadata": {
        "colab": {
          "base_uri": "https://localhost:8080/",
          "height": 204
        },
        "id": "gNmk2GK9jl0n",
        "outputId": "77b89573-86ba-466d-a5bf-c8be088346e0"
      },
      "source": [
        "# Importing and cleaning the data\n",
        "train_data = pd.read_csv('/content/drive/MyDrive/Dataset/DBS.csv', sep=';')\n",
        "test_data = pd.read_csv('/content/drive/MyDrive/Dataset/DBS_2020.csv', sep=';')\n",
        "train_data.head()"
      ],
      "execution_count": 3,
      "outputs": [
        {
          "output_type": "execute_result",
          "data": {
            "text/html": [
              "<div>\n",
              "<style scoped>\n",
              "    .dataframe tbody tr th:only-of-type {\n",
              "        vertical-align: middle;\n",
              "    }\n",
              "\n",
              "    .dataframe tbody tr th {\n",
              "        vertical-align: top;\n",
              "    }\n",
              "\n",
              "    .dataframe thead th {\n",
              "        text-align: right;\n",
              "    }\n",
              "</style>\n",
              "<table border=\"1\" class=\"dataframe\">\n",
              "  <thead>\n",
              "    <tr style=\"text-align: right;\">\n",
              "      <th></th>\n",
              "      <th>access</th>\n",
              "      <th>tests</th>\n",
              "      <th>tests_grade</th>\n",
              "      <th>exam</th>\n",
              "      <th>project</th>\n",
              "      <th>project_grade</th>\n",
              "      <th>assignments</th>\n",
              "      <th>result_points</th>\n",
              "      <th>result_grade</th>\n",
              "      <th>graduate</th>\n",
              "      <th>year</th>\n",
              "      <th>acad_year</th>\n",
              "    </tr>\n",
              "  </thead>\n",
              "  <tbody>\n",
              "    <tr>\n",
              "      <th>0</th>\n",
              "      <td>1256</td>\n",
              "      <td>57.00</td>\n",
              "      <td>A</td>\n",
              "      <td>19</td>\n",
              "      <td>91.54</td>\n",
              "      <td>A</td>\n",
              "      <td>40.0</td>\n",
              "      <td>189.92</td>\n",
              "      <td>A</td>\n",
              "      <td>1</td>\n",
              "      <td>2019</td>\n",
              "      <td>2019/2020</td>\n",
              "    </tr>\n",
              "    <tr>\n",
              "      <th>1</th>\n",
              "      <td>985</td>\n",
              "      <td>42.87</td>\n",
              "      <td>B</td>\n",
              "      <td>19</td>\n",
              "      <td>75.96</td>\n",
              "      <td>A</td>\n",
              "      <td>13.7</td>\n",
              "      <td>189.43</td>\n",
              "      <td>A</td>\n",
              "      <td>1</td>\n",
              "      <td>2017</td>\n",
              "      <td>2017/2018</td>\n",
              "    </tr>\n",
              "    <tr>\n",
              "      <th>2</th>\n",
              "      <td>1455</td>\n",
              "      <td>54.50</td>\n",
              "      <td>A</td>\n",
              "      <td>16</td>\n",
              "      <td>96.79</td>\n",
              "      <td>A</td>\n",
              "      <td>40.0</td>\n",
              "      <td>188.91</td>\n",
              "      <td>A</td>\n",
              "      <td>1</td>\n",
              "      <td>2019</td>\n",
              "      <td>2019/2020</td>\n",
              "    </tr>\n",
              "    <tr>\n",
              "      <th>3</th>\n",
              "      <td>998</td>\n",
              "      <td>54.50</td>\n",
              "      <td>A</td>\n",
              "      <td>16</td>\n",
              "      <td>93.36</td>\n",
              "      <td>A</td>\n",
              "      <td>40.0</td>\n",
              "      <td>186.85</td>\n",
              "      <td>A</td>\n",
              "      <td>1</td>\n",
              "      <td>2019</td>\n",
              "      <td>2019/2020</td>\n",
              "    </tr>\n",
              "    <tr>\n",
              "      <th>4</th>\n",
              "      <td>1347</td>\n",
              "      <td>55.00</td>\n",
              "      <td>A</td>\n",
              "      <td>16</td>\n",
              "      <td>92.86</td>\n",
              "      <td>A</td>\n",
              "      <td>39.0</td>\n",
              "      <td>186.38</td>\n",
              "      <td>A</td>\n",
              "      <td>1</td>\n",
              "      <td>2019</td>\n",
              "      <td>2019/2020</td>\n",
              "    </tr>\n",
              "  </tbody>\n",
              "</table>\n",
              "</div>"
            ],
            "text/plain": [
              "   access  tests tests_grade  exam  ...  result_grade graduate  year  acad_year\n",
              "0    1256  57.00           A    19  ...             A        1  2019  2019/2020\n",
              "1     985  42.87           B    19  ...             A        1  2017  2017/2018\n",
              "2    1455  54.50           A    16  ...             A        1  2019  2019/2020\n",
              "3     998  54.50           A    16  ...             A        1  2019  2019/2020\n",
              "4    1347  55.00           A    16  ...             A        1  2019  2019/2020\n",
              "\n",
              "[5 rows x 12 columns]"
            ]
          },
          "metadata": {},
          "execution_count": 3
        }
      ]
    },
    {
      "cell_type": "code",
      "metadata": {
        "colab": {
          "base_uri": "https://localhost:8080/",
          "height": 204
        },
        "id": "lYmqlKj-jl4m",
        "outputId": "8dae20c0-85bf-49c3-fd3f-ceec20814079"
      },
      "source": [
        "test_data.head()"
      ],
      "execution_count": 4,
      "outputs": [
        {
          "output_type": "execute_result",
          "data": {
            "text/html": [
              "<div>\n",
              "<style scoped>\n",
              "    .dataframe tbody tr th:only-of-type {\n",
              "        vertical-align: middle;\n",
              "    }\n",
              "\n",
              "    .dataframe tbody tr th {\n",
              "        vertical-align: top;\n",
              "    }\n",
              "\n",
              "    .dataframe thead th {\n",
              "        text-align: right;\n",
              "    }\n",
              "</style>\n",
              "<table border=\"1\" class=\"dataframe\">\n",
              "  <thead>\n",
              "    <tr style=\"text-align: right;\">\n",
              "      <th></th>\n",
              "      <th>access</th>\n",
              "      <th>tests</th>\n",
              "      <th>tests_grade</th>\n",
              "      <th>exam</th>\n",
              "      <th>project</th>\n",
              "      <th>project_grade</th>\n",
              "      <th>assignments</th>\n",
              "      <th>result_points</th>\n",
              "      <th>result_grade</th>\n",
              "      <th>graduate</th>\n",
              "      <th>year</th>\n",
              "      <th>acad_year</th>\n",
              "    </tr>\n",
              "  </thead>\n",
              "  <tbody>\n",
              "    <tr>\n",
              "      <th>0</th>\n",
              "      <td>794</td>\n",
              "      <td>68.10</td>\n",
              "      <td>A</td>\n",
              "      <td>19.40</td>\n",
              "      <td>100.23</td>\n",
              "      <td>A</td>\n",
              "      <td>37</td>\n",
              "      <td>235.34</td>\n",
              "      <td>A</td>\n",
              "      <td>1</td>\n",
              "      <td>2020</td>\n",
              "      <td>2020/2021</td>\n",
              "    </tr>\n",
              "    <tr>\n",
              "      <th>1</th>\n",
              "      <td>844</td>\n",
              "      <td>57.85</td>\n",
              "      <td>C</td>\n",
              "      <td>12.57</td>\n",
              "      <td>96.14</td>\n",
              "      <td>A</td>\n",
              "      <td>32</td>\n",
              "      <td>215.75</td>\n",
              "      <td>B</td>\n",
              "      <td>1</td>\n",
              "      <td>2020</td>\n",
              "      <td>2020/2021</td>\n",
              "    </tr>\n",
              "    <tr>\n",
              "      <th>2</th>\n",
              "      <td>658</td>\n",
              "      <td>64.60</td>\n",
              "      <td>B</td>\n",
              "      <td>17.57</td>\n",
              "      <td>101.59</td>\n",
              "      <td>A</td>\n",
              "      <td>37</td>\n",
              "      <td>224.27</td>\n",
              "      <td>B</td>\n",
              "      <td>1</td>\n",
              "      <td>2020</td>\n",
              "      <td>2020/2021</td>\n",
              "    </tr>\n",
              "    <tr>\n",
              "      <th>3</th>\n",
              "      <td>1193</td>\n",
              "      <td>56.93</td>\n",
              "      <td>C</td>\n",
              "      <td>13.28</td>\n",
              "      <td>102.31</td>\n",
              "      <td>A</td>\n",
              "      <td>36</td>\n",
              "      <td>216.56</td>\n",
              "      <td>B</td>\n",
              "      <td>1</td>\n",
              "      <td>2020</td>\n",
              "      <td>2020/2021</td>\n",
              "    </tr>\n",
              "    <tr>\n",
              "      <th>4</th>\n",
              "      <td>1400</td>\n",
              "      <td>61.35</td>\n",
              "      <td>C</td>\n",
              "      <td>15.40</td>\n",
              "      <td>93.72</td>\n",
              "      <td>B</td>\n",
              "      <td>34</td>\n",
              "      <td>214.72</td>\n",
              "      <td>B</td>\n",
              "      <td>1</td>\n",
              "      <td>2020</td>\n",
              "      <td>2020/2021</td>\n",
              "    </tr>\n",
              "  </tbody>\n",
              "</table>\n",
              "</div>"
            ],
            "text/plain": [
              "   access  tests tests_grade   exam  ...  result_grade graduate  year  acad_year\n",
              "0     794  68.10           A  19.40  ...             A        1  2020  2020/2021\n",
              "1     844  57.85           C  12.57  ...             B        1  2020  2020/2021\n",
              "2     658  64.60           B  17.57  ...             B        1  2020  2020/2021\n",
              "3    1193  56.93           C  13.28  ...             B        1  2020  2020/2021\n",
              "4    1400  61.35           C  15.40  ...             B        1  2020  2020/2021\n",
              "\n",
              "[5 rows x 12 columns]"
            ]
          },
          "metadata": {},
          "execution_count": 4
        }
      ]
    },
    {
      "cell_type": "code",
      "metadata": {
        "colab": {
          "base_uri": "https://localhost:8080/"
        },
        "id": "v2kXdmp5jl7M",
        "outputId": "29270b2a-83f3-4036-adfb-bcb5b88319c3"
      },
      "source": [
        "from collections import Counter\n",
        "from imblearn.over_sampling import SMOTE\n",
        "from numpy import where\n",
        "from numpy import mean\n",
        "from sklearn.datasets import make_classification\n",
        "from sklearn.model_selection import cross_val_score\n",
        "from sklearn.model_selection import RepeatedStratifiedKFold\n",
        "from sklearn import preprocessing"
      ],
      "execution_count": 5,
      "outputs": [
        {
          "output_type": "stream",
          "name": "stderr",
          "text": [
            "/usr/local/lib/python3.7/dist-packages/sklearn/externals/six.py:31: FutureWarning: The module is deprecated in version 0.21 and will be removed in version 0.23 since we've dropped support for Python 2.7. Please rely on the official version of six (https://pypi.org/project/six/).\n",
            "  \"(https://pypi.org/project/six/).\", FutureWarning)\n",
            "/usr/local/lib/python3.7/dist-packages/sklearn/utils/deprecation.py:144: FutureWarning: The sklearn.neighbors.base module is  deprecated in version 0.22 and will be removed in version 0.24. The corresponding classes / functions should instead be imported from sklearn.neighbors. Anything that cannot be imported from sklearn.neighbors is now part of the private API.\n",
            "  warnings.warn(message, FutureWarning)\n"
          ]
        }
      ]
    },
    {
      "cell_type": "code",
      "metadata": {
        "id": "pu5yFJ0Jjl9G"
      },
      "source": [
        "from tensorflow import keras\n",
        "from keras.utils import np_utils"
      ],
      "execution_count": 9,
      "outputs": []
    },
    {
      "cell_type": "code",
      "metadata": {
        "id": "TYwmIuA9jQSU"
      },
      "source": [
        "X_train = np.asarray(train_data[['access', 'tests', 'assignments']])\n",
        "y_train = np.asarray(train_data['graduate'])"
      ],
      "execution_count": 10,
      "outputs": []
    },
    {
      "cell_type": "code",
      "metadata": {
        "id": "WEmmfsb8kbgq"
      },
      "source": [
        "X_test = np.asarray(test_data[['access', 'tests', 'assignments']])\n",
        "y_test = np.asarray(test_data['graduate'])"
      ],
      "execution_count": 11,
      "outputs": []
    },
    {
      "cell_type": "code",
      "metadata": {
        "colab": {
          "base_uri": "https://localhost:8080/",
          "height": 204
        },
        "id": "VK6IuaVIkhnm",
        "outputId": "b79543c5-896c-4287-89ad-dcd27c9239ad"
      },
      "source": [
        "data = train_data[['access','tests','assignments','graduate']]\n",
        "data.head()"
      ],
      "execution_count": 13,
      "outputs": [
        {
          "output_type": "execute_result",
          "data": {
            "text/html": [
              "<div>\n",
              "<style scoped>\n",
              "    .dataframe tbody tr th:only-of-type {\n",
              "        vertical-align: middle;\n",
              "    }\n",
              "\n",
              "    .dataframe tbody tr th {\n",
              "        vertical-align: top;\n",
              "    }\n",
              "\n",
              "    .dataframe thead th {\n",
              "        text-align: right;\n",
              "    }\n",
              "</style>\n",
              "<table border=\"1\" class=\"dataframe\">\n",
              "  <thead>\n",
              "    <tr style=\"text-align: right;\">\n",
              "      <th></th>\n",
              "      <th>access</th>\n",
              "      <th>tests</th>\n",
              "      <th>assignments</th>\n",
              "      <th>graduate</th>\n",
              "    </tr>\n",
              "  </thead>\n",
              "  <tbody>\n",
              "    <tr>\n",
              "      <th>0</th>\n",
              "      <td>1256</td>\n",
              "      <td>57.00</td>\n",
              "      <td>40.0</td>\n",
              "      <td>1</td>\n",
              "    </tr>\n",
              "    <tr>\n",
              "      <th>1</th>\n",
              "      <td>985</td>\n",
              "      <td>42.87</td>\n",
              "      <td>13.7</td>\n",
              "      <td>1</td>\n",
              "    </tr>\n",
              "    <tr>\n",
              "      <th>2</th>\n",
              "      <td>1455</td>\n",
              "      <td>54.50</td>\n",
              "      <td>40.0</td>\n",
              "      <td>1</td>\n",
              "    </tr>\n",
              "    <tr>\n",
              "      <th>3</th>\n",
              "      <td>998</td>\n",
              "      <td>54.50</td>\n",
              "      <td>40.0</td>\n",
              "      <td>1</td>\n",
              "    </tr>\n",
              "    <tr>\n",
              "      <th>4</th>\n",
              "      <td>1347</td>\n",
              "      <td>55.00</td>\n",
              "      <td>39.0</td>\n",
              "      <td>1</td>\n",
              "    </tr>\n",
              "  </tbody>\n",
              "</table>\n",
              "</div>"
            ],
            "text/plain": [
              "   access  tests  assignments  graduate\n",
              "0    1256  57.00         40.0         1\n",
              "1     985  42.87         13.7         1\n",
              "2    1455  54.50         40.0         1\n",
              "3     998  54.50         40.0         1\n",
              "4    1347  55.00         39.0         1"
            ]
          },
          "metadata": {},
          "execution_count": 13
        }
      ]
    },
    {
      "cell_type": "code",
      "metadata": {
        "colab": {
          "base_uri": "https://localhost:8080/",
          "height": 350
        },
        "id": "Av0kQpygkdS6",
        "outputId": "40a3118e-ce48-4f42-f36d-4c39a8400a1e"
      },
      "source": [
        "# Visualization of data\n",
        "X_train = data.iloc[:,:3].values\n",
        "y_train = data.iloc[:,3].values\n",
        "\n",
        "y_train = np.where(y_train== 0.0,-1,1)\n",
        "    \n",
        "cm_bright = ListedColormap(['#000000', '#E32D91'])\n",
        "plt.figure(figsize=(7,5))\n",
        "plt.scatter(X_train[:,0], X_train[:,1], c=y_train, cmap=cm_bright)\n",
        "plt.scatter(None, None, color = '#000000', label='not pass')\n",
        "plt.scatter(None, None, color = '#E32D91', label='passed')\n",
        "plt.legend()\n",
        "\n",
        "plt.title('Visualize the data')\n",
        "plt.xlabel('access')\n",
        "plt.ylabel('result_points')\n",
        "plt.show()"
      ],
      "execution_count": 14,
      "outputs": [
        {
          "output_type": "display_data",
          "data": {
            "image/png": "[encoded data removed]",
            "text/plain": [
              "<Figure size 504x360 with 1 Axes>"
            ]
          },
          "metadata": {
            "needs_background": "light"
          }
        }
      ]
    },
    {
      "cell_type": "code",
      "metadata": {
        "id": "EYv6-o0gkesa"
      },
      "source": [
        "X_train = data.iloc[:,:3]\n",
        "y_train = data.iloc[:,3]\n",
        "\n",
        "standardized_X_train = preprocessing.scale(X_train)\n",
        "standardized_X_test = preprocessing.scale(X_test)"
      ],
      "execution_count": 16,
      "outputs": []
    },
    {
      "cell_type": "code",
      "metadata": {
        "colab": {
          "base_uri": "https://localhost:8080/"
        },
        "id": "qsEY1IUwkmVL",
        "outputId": "41bc65d3-9433-480a-852f-c4dc024c8a2a"
      },
      "source": [
        "# Transform the dataset\n",
        "oversample = SMOTE()\n",
        "X_train, y_train = oversample.fit_resample(standardized_X_train, y_train)"
      ],
      "execution_count": 17,
      "outputs": [
        {
          "output_type": "stream",
          "name": "stderr",
          "text": [
            "/usr/local/lib/python3.7/dist-packages/sklearn/utils/deprecation.py:87: FutureWarning: Function safe_indexing is deprecated; safe_indexing is deprecated in version 0.22 and will be removed in version 0.24.\n",
            "  warnings.warn(msg, category=FutureWarning)\n"
          ]
        }
      ]
    },
    {
      "cell_type": "code",
      "metadata": {
        "id": "5U641e6Fkq9r"
      },
      "source": [
        "from tensorflow.keras import Sequential\n",
        "from tensorflow.keras.layers import Conv2D, Flatten, Dense\n",
        "\n",
        "# Define the Keras model\n",
        "model = Sequential()\n",
        "\n",
        "\n",
        "model.add(Dense(128, activation='relu', kernel_initializer='random_normal', input_dim=3))\n",
        "model.add(Dense(64, activation='relu', kernel_initializer='random_normal'))\n",
        "model.add(Dense(64, activation='relu', kernel_initializer='random_normal'))\n",
        "\n",
        "model.add(Dense(1, activation='sigmoid', kernel_initializer='random_normal'))"
      ],
      "execution_count": 18,
      "outputs": []
    },
    {
      "cell_type": "code",
      "metadata": {
        "id": "rGa3fE6vkzNr"
      },
      "source": [
        "# Compile the Keras model\n",
        "model.compile(optimizer ='adam', loss='mean_squared_error', metrics =['accuracy'])"
      ],
      "execution_count": 19,
      "outputs": []
    },
    {
      "cell_type": "code",
      "metadata": {
        "colab": {
          "base_uri": "https://localhost:8080/"
        },
        "id": "4QcNhfm5k3Vr",
        "outputId": "db02b5f5-3438-4a6f-c1ed-cb0ee57d32d4"
      },
      "source": [
        "# Fit the Keras model on the dataset\n",
        "history = model.fit(X_train, y_train, batch_size=5, epochs=10, validation_data=(standardized_X_test,y_test))"
      ],
      "execution_count": 22,
      "outputs": [
        {
          "output_type": "stream",
          "name": "stdout",
          "text": [
            "Epoch 1/10\n",
            "84/84 [==============================] - 0s 4ms/step - loss: 0.1124 - accuracy: 0.8333 - val_loss: 0.0628 - val_accuracy: 0.9500\n",
            "Epoch 2/10\n",
            "84/84 [==============================] - 0s 3ms/step - loss: 0.1103 - accuracy: 0.8405 - val_loss: 0.0564 - val_accuracy: 0.9500\n",
            "Epoch 3/10\n",
            "84/84 [==============================] - 0s 3ms/step - loss: 0.1082 - accuracy: 0.8476 - val_loss: 0.0494 - val_accuracy: 0.9500\n",
            "Epoch 4/10\n",
            "84/84 [==============================] - 0s 3ms/step - loss: 0.1081 - accuracy: 0.8405 - val_loss: 0.0552 - val_accuracy: 0.9500\n",
            "Epoch 5/10\n",
            "84/84 [==============================] - 0s 3ms/step - loss: 0.1033 - accuracy: 0.8476 - val_loss: 0.0562 - val_accuracy: 0.9500\n",
            "Epoch 6/10\n",
            "84/84 [==============================] - 0s 3ms/step - loss: 0.1027 - accuracy: 0.8595 - val_loss: 0.0550 - val_accuracy: 0.9500\n",
            "Epoch 7/10\n",
            "84/84 [==============================] - 0s 3ms/step - loss: 0.1098 - accuracy: 0.8429 - val_loss: 0.0524 - val_accuracy: 0.9500\n",
            "Epoch 8/10\n",
            "84/84 [==============================] - 0s 3ms/step - loss: 0.1030 - accuracy: 0.8429 - val_loss: 0.0549 - val_accuracy: 0.9667\n",
            "Epoch 9/10\n",
            "84/84 [==============================] - 0s 3ms/step - loss: 0.1005 - accuracy: 0.8500 - val_loss: 0.0793 - val_accuracy: 0.9000\n",
            "Epoch 10/10\n",
            "84/84 [==============================] - 0s 3ms/step - loss: 0.0978 - accuracy: 0.8595 - val_loss: 0.0620 - val_accuracy: 0.9333\n"
          ]
        }
      ]
    },
    {
      "cell_type": "code",
      "metadata": {
        "colab": {
          "base_uri": "https://localhost:8080/"
        },
        "id": "9lx4JzI9k7bL",
        "outputId": "5458a982-f713-4c36-a305-8d680b490e65"
      },
      "source": [
        "# Evaluate the Keras model\n",
        "eval_model= model.evaluate(X_test, y_test)\n",
        "eval_model"
      ],
      "execution_count": 24,
      "outputs": [
        {
          "output_type": "stream",
          "name": "stdout",
          "text": [
            "2/2 [==============================] - 0s 8ms/step - loss: 0.2333 - accuracy: 0.7667\n"
          ]
        },
        {
          "output_type": "execute_result",
          "data": {
            "text/plain": [
              "[0.23333333432674408, 0.7666666507720947]"
            ]
          },
          "metadata": {},
          "execution_count": 24
        }
      ]
    },
    {
      "cell_type": "code",
      "metadata": {
        "id": "J_nVHuUDlFsC"
      },
      "source": [
        "# Predictions\n",
        "y_pred = model.predict(standardized_X_test)\n",
        "y_pred = (y_pred>0.5)"
      ],
      "execution_count": 26,
      "outputs": []
    },
    {
      "cell_type": "code",
      "metadata": {
        "colab": {
          "base_uri": "https://localhost:8080/"
        },
        "id": "fK76H9B2lLty",
        "outputId": "3f68bae9-57b9-4ec7-80c0-ad35859ea671"
      },
      "source": [
        "# Confusion matrix\n",
        "from sklearn.metrics import confusion_matrix\n",
        "cm = confusion_matrix(y_test, y_pred)\n",
        "print(cm)"
      ],
      "execution_count": 27,
      "outputs": [
        {
          "output_type": "stream",
          "name": "stdout",
          "text": [
            "[[12  2]\n",
            " [ 2 44]]\n"
          ]
        }
      ]
    },
    {
      "cell_type": "code",
      "metadata": {
        "colab": {
          "base_uri": "https://localhost:8080/",
          "height": 290
        },
        "id": "uSIX-XHGlREU",
        "outputId": "6a588bfa-08c5-4d52-acc5-4009eba0a2b7"
      },
      "source": [
        "# Confusion matrix\n",
        "import seaborn as sn\n",
        "import pandas as pd\n",
        "import matplotlib.pyplot as plt\n",
        "\n",
        "array = [[12,2],\n",
        "        [5,41]]  \n",
        "\n",
        "df_cm = pd.DataFrame(array, range(2),\n",
        "                  range(2))\n",
        "#plt.figure(figsize = (10,7))\n",
        "sn.set(font_scale=1.4)\n",
        "sn.heatmap(df_cm, annot=True,annot_kws={\"size\": 16})"
      ],
      "execution_count": 28,
      "outputs": [
        {
          "output_type": "execute_result",
          "data": {
            "text/plain": [
              "<matplotlib.axes._subplots.AxesSubplot at 0x7f548009dc10>"
            ]
          },
          "metadata": {},
          "execution_count": 28
        },
        {
          "output_type": "display_data",
          "data": {
            "image/png": "[encoded data removed]",
            "text/plain": [
              "<Figure size 432x288 with 2 Axes>"
            ]
          },
          "metadata": {}
        }
      ]
    },
    {
      "cell_type": "code",
      "metadata": {
        "colab": {
          "base_uri": "https://localhost:8080/"
        },
        "id": "wkYqt0z3lTEa",
        "outputId": "bb5dd4b5-4201-4f5d-ed41-5230b02632fa"
      },
      "source": [
        "# Accuracy\n",
        "print(\"\\nAccuracy: %.2f%%\" % (eval_model[1]*100))"
      ],
      "execution_count": 29,
      "outputs": [
        {
          "output_type": "stream",
          "name": "stdout",
          "text": [
            "\n",
            "Accuracy: 76.67%\n"
          ]
        }
      ]
    },
    {
      "cell_type": "code",
      "metadata": {
        "id": "wBZ-gSkalU2R",
        "outputId": "eb1db669-6e55-4e98-86b6-0c1d92a3662f",
        "colab": {
          "base_uri": "https://localhost:8080/"
        }
      },
      "source": [
        "# Classificaton report\n",
        "from sklearn.metrics import classification_report # evaluation metric\n",
        "print(classification_report(y_test,y_pred))"
      ],
      "execution_count": 30,
      "outputs": [
        {
          "output_type": "stream",
          "name": "stdout",
          "text": [
            "              precision    recall  f1-score   support\n",
            "\n",
            "           0       0.86      0.86      0.86        14\n",
            "           1       0.96      0.96      0.96        46\n",
            "\n",
            "    accuracy                           0.93        60\n",
            "   macro avg       0.91      0.91      0.91        60\n",
            "weighted avg       0.93      0.93      0.93        60\n",
            "\n"
          ]
        }
      ]
    },
    {
      "cell_type": "code",
      "metadata": {
        "id": "YCn038HhlWaJ"
      },
      "source": [
        ""
      ],
      "execution_count": null,
      "outputs": []
    }
  ]
}