{
  "nbformat": 4,
  "nbformat_minor": 0,
  "metadata": {
    "colab": {
      "name": "ChurnPrediction_RandomForest.ipynb",
      "provenance": [],
      "authorship_tag": "ABX9TyOqXdGGE4gUZViTnBSsaQCm",
      "include_colab_link": true
    },
    "kernelspec": {
      "name": "python3",
      "display_name": "Python 3"
    },
    "language_info": {
      "name": "python"
    }
  },
  "cells": [
    {
      "cell_type": "markdown",
      "metadata": {
        "id": "view-in-github",
        "colab_type": "text"
      },
      "source": [
        "<a href=\"https://colab.research.google.com/github/jiachun23/StudentDropout_ChurnPrediction/blob/main/ChurnPrediction_RandomForest.ipynb\" target=\"_parent\"><img src=\"https://colab.research.google.com/assets/colab-badge.svg\" alt=\"Open In Colab\"/></a>"
      ]
    },
    {
      "cell_type": "code",
      "metadata": {
        "colab": {
          "base_uri": "https://localhost:8080/"
        },
        "id": "dOiH7TnneKlU",
        "outputId": "73e60cf1-9946-4a8c-c21a-09e53f4d57ee"
      },
      "source": [
        "from google.colab import drive\n",
        "drive.mount('/content/drive/')"
      ],
      "execution_count": 1,
      "outputs": [
        {
          "output_type": "stream",
          "name": "stdout",
          "text": [
            "Mounted at /content/drive/\n"
          ]
        }
      ]
    },
    {
      "cell_type": "code",
      "metadata": {
        "colab": {
          "base_uri": "https://localhost:8080/"
        },
        "id": "Kk-BVQO-eUi6",
        "outputId": "78c16618-1b55-4192-a7b0-e39eb0afa924"
      },
      "source": [
        "# Importing packages\n",
        "import numpy as np\n",
        "from numpy import where\n",
        "from numpy import mean\n",
        "import pandas as pd\n",
        "import matplotlib.pyplot as plt\n",
        "import seaborn as sns\n",
        "\n",
        "from sklearn.ensemble import RandomForestClassifier\n",
        "from sklearn.metrics import accuracy_score, confusion_matrix, classification_report\n",
        "\n",
        "%matplotlib inline\n",
        "from sklearn.datasets import make_classification\n",
        "from sklearn.model_selection import cross_val_score\n",
        "from sklearn.model_selection import RepeatedStratifiedKFold\n",
        "from sklearn.ensemble import RandomForestClassifier\n",
        "from collections import Counter\n",
        "from imblearn.over_sampling import SMOTE"
      ],
      "execution_count": 2,
      "outputs": [
        {
          "output_type": "stream",
          "name": "stderr",
          "text": [
            "/usr/local/lib/python3.7/dist-packages/sklearn/externals/six.py:31: FutureWarning: The module is deprecated in version 0.21 and will be removed in version 0.23 since we've dropped support for Python 2.7. Please rely on the official version of six (https://pypi.org/project/six/).\n",
            "  \"(https://pypi.org/project/six/).\", FutureWarning)\n",
            "/usr/local/lib/python3.7/dist-packages/sklearn/utils/deprecation.py:144: FutureWarning: The sklearn.neighbors.base module is  deprecated in version 0.22 and will be removed in version 0.24. The corresponding classes / functions should instead be imported from sklearn.neighbors. Anything that cannot be imported from sklearn.neighbors is now part of the private API.\n",
            "  warnings.warn(message, FutureWarning)\n"
          ]
        }
      ]
    },
    {
      "cell_type": "code",
      "metadata": {
        "colab": {
          "base_uri": "https://localhost:8080/",
          "height": 204
        },
        "id": "qZF9aDnLedTo",
        "outputId": "d471f2b3-76ab-45f9-ed83-524c30d7d683"
      },
      "source": [
        "# Importing and cleaning the data\n",
        "train_data = pd.read_csv('/content/drive/MyDrive/Dataset/DBS.csv', sep=';')\n",
        "test_data = pd.read_csv('/content/drive/MyDrive/Dataset/DBS_2020.csv', sep=';')\n",
        "train_data.head()"
      ],
      "execution_count": 3,
      "outputs": [
        {
          "output_type": "execute_result",
          "data": {
            "text/html": [
              "<div>\n",
              "<style scoped>\n",
              "    .dataframe tbody tr th:only-of-type {\n",
              "        vertical-align: middle;\n",
              "    }\n",
              "\n",
              "    .dataframe tbody tr th {\n",
              "        vertical-align: top;\n",
              "    }\n",
              "\n",
              "    .dataframe thead th {\n",
              "        text-align: right;\n",
              "    }\n",
              "</style>\n",
              "<table border=\"1\" class=\"dataframe\">\n",
              "  <thead>\n",
              "    <tr style=\"text-align: right;\">\n",
              "      <th></th>\n",
              "      <th>access</th>\n",
              "      <th>tests</th>\n",
              "      <th>tests_grade</th>\n",
              "      <th>exam</th>\n",
              "      <th>project</th>\n",
              "      <th>project_grade</th>\n",
              "      <th>assignments</th>\n",
              "      <th>result_points</th>\n",
              "      <th>result_grade</th>\n",
              "      <th>graduate</th>\n",
              "      <th>year</th>\n",
              "      <th>acad_year</th>\n",
              "    </tr>\n",
              "  </thead>\n",
              "  <tbody>\n",
              "    <tr>\n",
              "      <th>0</th>\n",
              "      <td>1256</td>\n",
              "      <td>57.00</td>\n",
              "      <td>A</td>\n",
              "      <td>19</td>\n",
              "      <td>91.54</td>\n",
              "      <td>A</td>\n",
              "      <td>40.0</td>\n",
              "      <td>189.92</td>\n",
              "      <td>A</td>\n",
              "      <td>1</td>\n",
              "      <td>2019</td>\n",
              "      <td>2019/2020</td>\n",
              "    </tr>\n",
              "    <tr>\n",
              "      <th>1</th>\n",
              "      <td>985</td>\n",
              "      <td>42.87</td>\n",
              "      <td>B</td>\n",
              "      <td>19</td>\n",
              "      <td>75.96</td>\n",
              "      <td>A</td>\n",
              "      <td>13.7</td>\n",
              "      <td>189.43</td>\n",
              "      <td>A</td>\n",
              "      <td>1</td>\n",
              "      <td>2017</td>\n",
              "      <td>2017/2018</td>\n",
              "    </tr>\n",
              "    <tr>\n",
              "      <th>2</th>\n",
              "      <td>1455</td>\n",
              "      <td>54.50</td>\n",
              "      <td>A</td>\n",
              "      <td>16</td>\n",
              "      <td>96.79</td>\n",
              "      <td>A</td>\n",
              "      <td>40.0</td>\n",
              "      <td>188.91</td>\n",
              "      <td>A</td>\n",
              "      <td>1</td>\n",
              "      <td>2019</td>\n",
              "      <td>2019/2020</td>\n",
              "    </tr>\n",
              "    <tr>\n",
              "      <th>3</th>\n",
              "      <td>998</td>\n",
              "      <td>54.50</td>\n",
              "      <td>A</td>\n",
              "      <td>16</td>\n",
              "      <td>93.36</td>\n",
              "      <td>A</td>\n",
              "      <td>40.0</td>\n",
              "      <td>186.85</td>\n",
              "      <td>A</td>\n",
              "      <td>1</td>\n",
              "      <td>2019</td>\n",
              "      <td>2019/2020</td>\n",
              "    </tr>\n",
              "    <tr>\n",
              "      <th>4</th>\n",
              "      <td>1347</td>\n",
              "      <td>55.00</td>\n",
              "      <td>A</td>\n",
              "      <td>16</td>\n",
              "      <td>92.86</td>\n",
              "      <td>A</td>\n",
              "      <td>39.0</td>\n",
              "      <td>186.38</td>\n",
              "      <td>A</td>\n",
              "      <td>1</td>\n",
              "      <td>2019</td>\n",
              "      <td>2019/2020</td>\n",
              "    </tr>\n",
              "  </tbody>\n",
              "</table>\n",
              "</div>"
            ],
            "text/plain": [
              "   access  tests tests_grade  exam  ...  result_grade graduate  year  acad_year\n",
              "0    1256  57.00           A    19  ...             A        1  2019  2019/2020\n",
              "1     985  42.87           B    19  ...             A        1  2017  2017/2018\n",
              "2    1455  54.50           A    16  ...             A        1  2019  2019/2020\n",
              "3     998  54.50           A    16  ...             A        1  2019  2019/2020\n",
              "4    1347  55.00           A    16  ...             A        1  2019  2019/2020\n",
              "\n",
              "[5 rows x 12 columns]"
            ]
          },
          "metadata": {},
          "execution_count": 3
        }
      ]
    },
    {
      "cell_type": "code",
      "metadata": {
        "colab": {
          "base_uri": "https://localhost:8080/",
          "height": 204
        },
        "id": "CZ6DpDrfef1Z",
        "outputId": "b495b28d-9674-4086-b527-45e0b2e481cc"
      },
      "source": [
        "test_data.head()"
      ],
      "execution_count": 4,
      "outputs": [
        {
          "output_type": "execute_result",
          "data": {
            "text/html": [
              "<div>\n",
              "<style scoped>\n",
              "    .dataframe tbody tr th:only-of-type {\n",
              "        vertical-align: middle;\n",
              "    }\n",
              "\n",
              "    .dataframe tbody tr th {\n",
              "        vertical-align: top;\n",
              "    }\n",
              "\n",
              "    .dataframe thead th {\n",
              "        text-align: right;\n",
              "    }\n",
              "</style>\n",
              "<table border=\"1\" class=\"dataframe\">\n",
              "  <thead>\n",
              "    <tr style=\"text-align: right;\">\n",
              "      <th></th>\n",
              "      <th>access</th>\n",
              "      <th>tests</th>\n",
              "      <th>tests_grade</th>\n",
              "      <th>exam</th>\n",
              "      <th>project</th>\n",
              "      <th>project_grade</th>\n",
              "      <th>assignments</th>\n",
              "      <th>result_points</th>\n",
              "      <th>result_grade</th>\n",
              "      <th>graduate</th>\n",
              "      <th>year</th>\n",
              "      <th>acad_year</th>\n",
              "    </tr>\n",
              "  </thead>\n",
              "  <tbody>\n",
              "    <tr>\n",
              "      <th>0</th>\n",
              "      <td>794</td>\n",
              "      <td>68.10</td>\n",
              "      <td>A</td>\n",
              "      <td>19.40</td>\n",
              "      <td>100.23</td>\n",
              "      <td>A</td>\n",
              "      <td>37</td>\n",
              "      <td>235.34</td>\n",
              "      <td>A</td>\n",
              "      <td>1</td>\n",
              "      <td>2020</td>\n",
              "      <td>2020/2021</td>\n",
              "    </tr>\n",
              "    <tr>\n",
              "      <th>1</th>\n",
              "      <td>844</td>\n",
              "      <td>57.85</td>\n",
              "      <td>C</td>\n",
              "      <td>12.57</td>\n",
              "      <td>96.14</td>\n",
              "      <td>A</td>\n",
              "      <td>32</td>\n",
              "      <td>215.75</td>\n",
              "      <td>B</td>\n",
              "      <td>1</td>\n",
              "      <td>2020</td>\n",
              "      <td>2020/2021</td>\n",
              "    </tr>\n",
              "    <tr>\n",
              "      <th>2</th>\n",
              "      <td>658</td>\n",
              "      <td>64.60</td>\n",
              "      <td>B</td>\n",
              "      <td>17.57</td>\n",
              "      <td>101.59</td>\n",
              "      <td>A</td>\n",
              "      <td>37</td>\n",
              "      <td>224.27</td>\n",
              "      <td>B</td>\n",
              "      <td>1</td>\n",
              "      <td>2020</td>\n",
              "      <td>2020/2021</td>\n",
              "    </tr>\n",
              "    <tr>\n",
              "      <th>3</th>\n",
              "      <td>1193</td>\n",
              "      <td>56.93</td>\n",
              "      <td>C</td>\n",
              "      <td>13.28</td>\n",
              "      <td>102.31</td>\n",
              "      <td>A</td>\n",
              "      <td>36</td>\n",
              "      <td>216.56</td>\n",
              "      <td>B</td>\n",
              "      <td>1</td>\n",
              "      <td>2020</td>\n",
              "      <td>2020/2021</td>\n",
              "    </tr>\n",
              "    <tr>\n",
              "      <th>4</th>\n",
              "      <td>1400</td>\n",
              "      <td>61.35</td>\n",
              "      <td>C</td>\n",
              "      <td>15.40</td>\n",
              "      <td>93.72</td>\n",
              "      <td>B</td>\n",
              "      <td>34</td>\n",
              "      <td>214.72</td>\n",
              "      <td>B</td>\n",
              "      <td>1</td>\n",
              "      <td>2020</td>\n",
              "      <td>2020/2021</td>\n",
              "    </tr>\n",
              "  </tbody>\n",
              "</table>\n",
              "</div>"
            ],
            "text/plain": [
              "   access  tests tests_grade   exam  ...  result_grade graduate  year  acad_year\n",
              "0     794  68.10           A  19.40  ...             A        1  2020  2020/2021\n",
              "1     844  57.85           C  12.57  ...             B        1  2020  2020/2021\n",
              "2     658  64.60           B  17.57  ...             B        1  2020  2020/2021\n",
              "3    1193  56.93           C  13.28  ...             B        1  2020  2020/2021\n",
              "4    1400  61.35           C  15.40  ...             B        1  2020  2020/2021\n",
              "\n",
              "[5 rows x 12 columns]"
            ]
          },
          "metadata": {},
          "execution_count": 4
        }
      ]
    },
    {
      "cell_type": "code",
      "metadata": {
        "id": "TMt0S3Odeg9x"
      },
      "source": [
        "X_train = np.asarray(train_data[['access', 'tests', 'assignments']])\n",
        "y_train = np.asarray(train_data['graduate'])"
      ],
      "execution_count": 5,
      "outputs": []
    },
    {
      "cell_type": "code",
      "metadata": {
        "id": "PfWdiGW1ejdB"
      },
      "source": [
        "X_test = np.asarray(test_data[['access', 'tests', 'assignments']])\n",
        "y_test = np.asarray(test_data['graduate'])"
      ],
      "execution_count": 6,
      "outputs": []
    },
    {
      "cell_type": "code",
      "metadata": {
        "colab": {
          "base_uri": "https://localhost:8080/",
          "height": 282
        },
        "id": "6ckKfrPcek_B",
        "outputId": "5b6b5bd8-d3b4-4e92-a7e4-a888a1ac39fa"
      },
      "source": [
        "counter = Counter(y_train)\n",
        "print(counter)\n",
        "\n",
        "# scatter plot of examples by class label\n",
        "for label, _ in counter.items():\n",
        "\trow_ix = where(y_train == label)[0]\n",
        "\tplt.scatter(X_train[row_ix, 0], X_train[row_ix, 1], label=str(label))\n",
        "plt.legend()\n",
        "plt.show()"
      ],
      "execution_count": 7,
      "outputs": [
        {
          "output_type": "stream",
          "name": "stdout",
          "text": [
            "Counter({1: 210, 0: 51})\n"
          ]
        },
        {
          "output_type": "display_data",
          "data": {
            "image/png": "[encoded data removed]",
            "text/plain": [
              "<Figure size 432x288 with 1 Axes>"
            ]
          },
          "metadata": {
            "needs_background": "light"
          }
        }
      ]
    },
    {
      "cell_type": "code",
      "metadata": {
        "id": "WpoKe8b0em-h"
      },
      "source": [
        "# Data normalization with sklearn\n",
        "from sklearn.preprocessing import MinMaxScaler\n",
        "\n",
        "scaler = MinMaxScaler(feature_range = (0,1))\n",
        "\n",
        "scaler.fit(X_train)\n",
        "X_train = scaler.transform(X_train)\n",
        "X_test = scaler.transform(X_test)"
      ],
      "execution_count": 8,
      "outputs": []
    },
    {
      "cell_type": "code",
      "metadata": {
        "colab": {
          "base_uri": "https://localhost:8080/"
        },
        "id": "6EaZhDkUeq1p",
        "outputId": "576c0142-26c1-419f-949f-734ff80038d4"
      },
      "source": [
        "# Transform the dataset\n",
        "oversample = SMOTE()\n",
        "X_train, y_train = oversample.fit_resample(X_train, y_train)"
      ],
      "execution_count": 9,
      "outputs": [
        {
          "output_type": "stream",
          "name": "stderr",
          "text": [
            "/usr/local/lib/python3.7/dist-packages/sklearn/utils/deprecation.py:87: FutureWarning: Function safe_indexing is deprecated; safe_indexing is deprecated in version 0.22 and will be removed in version 0.24.\n",
            "  warnings.warn(msg, category=FutureWarning)\n"
          ]
        }
      ]
    },
    {
      "cell_type": "code",
      "metadata": {
        "id": "q1Q9GhVVetj5"
      },
      "source": [
        "# Random Forest\n",
        "from sklearn.ensemble import RandomForestRegressor\n",
        "\n",
        "forest = RandomForestClassifier(random_state = 1,\n",
        "                                  n_estimators = 1000,\n",
        "                                  max_features = 'auto',\n",
        "                                  max_depth = 50,\n",
        "                                  bootstrap = False,\n",
        "                                  min_samples_split = 2,  min_samples_leaf = 1) \n",
        "model = forest.fit(X_train, y_train) \n",
        "y_pred = model.predict(X_test)"
      ],
      "execution_count": 10,
      "outputs": []
    },
    {
      "cell_type": "code",
      "metadata": {
        "colab": {
          "base_uri": "https://localhost:8080/"
        },
        "id": "GGMKdGUZf7uP",
        "outputId": "b9c9c78a-09c9-43bf-e755-1fe1ad3d5b3f"
      },
      "source": [
        "#Evaluation \n",
        "from sklearn.metrics import mean_absolute_error\n",
        "def evaluate(forest, X_test, y_test):\n",
        "    predictions = model.predict(X_test)\n",
        "    errors = abs(predictions - y_test)\n",
        "    mape = mean_absolute_error(predictions, y_test)*100\n",
        "    accuracy = 100 - mape\n",
        "    print('Model Performance')\n",
        "    print('Average Error: {:0.4f}'.format(np.mean(errors)))\n",
        "    print('Accuracy = {:0.2f}%'.format(accuracy))\n",
        "    \n",
        "    return accuracy\n",
        "\n",
        "base_accuracy = evaluate(forest, X_test, y_test)"
      ],
      "execution_count": 11,
      "outputs": [
        {
          "output_type": "stream",
          "name": "stdout",
          "text": [
            "Model Performance\n",
            "Average Error: 0.0833\n",
            "Accuracy = 91.67%\n"
          ]
        }
      ]
    },
    {
      "cell_type": "code",
      "metadata": {
        "colab": {
          "base_uri": "https://localhost:8080/",
          "height": 282
        },
        "id": "8od0a8CsgEqn",
        "outputId": "93a1475b-2315-42a2-b7ff-5841a822f5ef"
      },
      "source": [
        "counter = Counter(y_train)\n",
        "print(counter)\n",
        "# scatter plot of examples by class label\n",
        "for label, _ in counter.items():\n",
        "\trow_ix = where(y_train == label)[0]\n",
        "\tplt.scatter(X_train[row_ix, 0], X_train[row_ix, 1], label=str(label))\n",
        "plt.legend()\n",
        "plt.show()"
      ],
      "execution_count": 12,
      "outputs": [
        {
          "output_type": "stream",
          "name": "stdout",
          "text": [
            "Counter({1: 210, 0: 210})\n"
          ]
        },
        {
          "output_type": "display_data",
          "data": {
            "image/png": "[encoded data removed]",
            "text/plain": [
              "<Figure size 432x288 with 1 Axes>"
            ]
          },
          "metadata": {
            "needs_background": "light"
          }
        }
      ]
    },
    {
      "cell_type": "code",
      "metadata": {
        "colab": {
          "base_uri": "https://localhost:8080/"
        },
        "id": "Fib8QSb5gHa_",
        "outputId": "2928fc67-265d-4e8a-bf5d-ac2cc1b19870"
      },
      "source": [
        "# Make predictions for the test set\n",
        "y_pred_test = forest.predict(X_test)\n",
        "\n",
        "\n",
        "# View accuracy score\n",
        "print(\"Accuracy: \", accuracy_score(y_test, y_pred_test))"
      ],
      "execution_count": 15,
      "outputs": [
        {
          "output_type": "stream",
          "name": "stdout",
          "text": [
            "Accuracy:  0.9166666666666666\n"
          ]
        }
      ]
    },
    {
      "cell_type": "code",
      "metadata": {
        "colab": {
          "base_uri": "https://localhost:8080/",
          "height": 328
        },
        "id": "vkoCF11AiS7d",
        "outputId": "1a1d9aaa-e5a9-4a96-823a-bf4a9c8b6223"
      },
      "source": [
        "# Classificaton report\n",
        "import itertools\n",
        "\n",
        "def plot_confusion_matrix(cm, classes,\n",
        "                          normalize=False,\n",
        "                          title='Confusion matrix',\n",
        "                          cmap=plt.cm.Blues):\n",
        "    \"\"\"\n",
        "    This function prints and plots the confusion matrix.\n",
        "    Normalization can be applied by setting `normalize=True`.\n",
        "    \"\"\"\n",
        "    plt.imshow(cm, interpolation='nearest', cmap=cmap)\n",
        "    plt.title(title)\n",
        "    plt.colorbar()\n",
        "    tick_marks = np.arange(len(classes))\n",
        "    plt.xticks(tick_marks, classes, rotation=0)\n",
        "    plt.yticks(tick_marks, classes)\n",
        "\n",
        "    if normalize:\n",
        "        cm = cm.astype('float') / cm.sum(axis=1)[:, np.newaxis]\n",
        "        #print(\"Normalized confusion matrix\")\n",
        "    else:\n",
        "        1#print('Confusion matrix, without normalization')\n",
        "\n",
        "    #print(cm)\n",
        "\n",
        "    thresh = cm.max() / 2.\n",
        "    for i, j in itertools.product(range(cm.shape[0]), range(cm.shape[1])):\n",
        "        plt.text(j, i, cm[i, j],\n",
        "                 horizontalalignment=\"center\",\n",
        "                 color=\"white\" if cm[i, j] > thresh else \"black\")\n",
        "\n",
        "    plt.tight_layout()\n",
        "    plt.ylabel('True label')\n",
        "    plt.xlabel('Predicted label')\n",
        "y_pre = forest.predict(X_test)\n",
        "\n",
        "cnf_matrix = confusion_matrix(y_test,  y_pre)\n",
        "\n",
        "print(\"Recall metric in the testing dataset: {}%\".format(100*cnf_matrix[1,1]/(cnf_matrix[1,0]+cnf_matrix[1,1])))\n",
        "#print(\"Precision metric in the testing dataset: {}%\".format(100*cnf_matrix[0,0]/(cnf_matrix[0,0]+cnf_matrix[1,0])))\n",
        "# Plot non-normalized confusion matrix\n",
        "class_names = [\"Not Churn\", \"Churn\"]\n",
        "plt.figure()\n",
        "plot_confusion_matrix(cnf_matrix , classes=class_names, title='Confusion matrix')\n",
        "plt.show()"
      ],
      "execution_count": 16,
      "outputs": [
        {
          "output_type": "stream",
          "name": "stdout",
          "text": [
            "Recall metric in the testing dataset: 95.65217391304348%\n"
          ]
        },
        {
          "output_type": "display_data",
          "data": {
            "image/png": "[encoded data removed]",
            "text/plain": [
              "<Figure size 432x288 with 2 Axes>"
            ]
          },
          "metadata": {
            "needs_background": "light"
          }
        }
      ]
    },
    {
      "cell_type": "code",
      "metadata": {
        "colab": {
          "base_uri": "https://localhost:8080/"
        },
        "id": "TiulkaWVilus",
        "outputId": "45b27317-4901-44b9-e519-b45d0950ae4e"
      },
      "source": [
        "# View confusion matrix for test data and predictions\n",
        "confusion_matrix(y_test,  y_pred_test)"
      ],
      "execution_count": 17,
      "outputs": [
        {
          "output_type": "execute_result",
          "data": {
            "text/plain": [
              "array([[11,  3],\n",
              "       [ 2, 44]])"
            ]
          },
          "metadata": {},
          "execution_count": 17
        }
      ]
    },
    {
      "cell_type": "code",
      "metadata": {
        "colab": {
          "base_uri": "https://localhost:8080/"
        },
        "id": "VHPhgT59inxt",
        "outputId": "7e8287d3-e32e-4119-ff91-dc0957ea35fd"
      },
      "source": [
        "# View the classification report for test data and predictions\n",
        "print(classification_report(y_test, y_pred_test))"
      ],
      "execution_count": 18,
      "outputs": [
        {
          "output_type": "stream",
          "name": "stdout",
          "text": [
            "              precision    recall  f1-score   support\n",
            "\n",
            "           0       0.85      0.79      0.81        14\n",
            "           1       0.94      0.96      0.95        46\n",
            "\n",
            "    accuracy                           0.92        60\n",
            "   macro avg       0.89      0.87      0.88        60\n",
            "weighted avg       0.92      0.92      0.92        60\n",
            "\n"
          ]
        }
      ]
    },
    {
      "cell_type": "code",
      "metadata": {
        "colab": {
          "base_uri": "https://localhost:8080/",
          "height": 265
        },
        "id": "JngPCFOLipes",
        "outputId": "6d28c4cd-1c1c-46df-8c3f-77f9863452c6"
      },
      "source": [
        "# Import the metrics class\n",
        "from sklearn import metrics\n",
        "\n",
        "y_pred_proba = forest.predict_proba(X_test)[::,1]\n",
        "fpr, tpr, _ = metrics.roc_curve(y_test,  y_pred_proba)\n",
        "auc = metrics.roc_auc_score(y_test, y_pred_proba)\n",
        "plt.plot(fpr,tpr,label=\"Random Forest, AUC=\"+str(auc))\n",
        "plt.legend(loc=4)\n",
        "plt.show()"
      ],
      "execution_count": 19,
      "outputs": [
        {
          "output_type": "display_data",
          "data": {
            "image/png": "[encoded data removed]",
            "text/plain": [
              "<Figure size 432x288 with 1 Axes>"
            ]
          },
          "metadata": {
            "needs_background": "light"
          }
        }
      ]
    },
    {
      "cell_type": "code",
      "metadata": {
        "id": "mh1XkDbViuAE"
      },
      "source": [
        ""
      ],
      "execution_count": null,
      "outputs": []
    }
  ]
}