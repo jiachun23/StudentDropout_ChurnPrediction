{
  "nbformat": 4,
  "nbformat_minor": 0,
  "metadata": {
    "colab": {
      "name": "ChurnPrediction_LogisticRegression.ipynb",
      "provenance": [],
      "authorship_tag": "ABX9TyOb9BW6RX1j1TpJTSyrSKVE",
      "include_colab_link": true
    },
    "kernelspec": {
      "name": "python3",
      "display_name": "Python 3"
    },
    "language_info": {
      "name": "python"
    },
    "accelerator": "GPU"
  },
  "cells": [
    {
      "cell_type": "markdown",
      "metadata": {
        "id": "view-in-github",
        "colab_type": "text"
      },
      "source": [
        "<a href=\"https://colab.research.google.com/github/jiachun23/StudentDropout_ChurnPrediction/blob/main/ChurnPrediction_LogisticRegression.ipynb\" target=\"_parent\"><img src=\"https://colab.research.google.com/assets/colab-badge.svg\" alt=\"Open In Colab\"/></a>"
      ]
    },
    {
      "cell_type": "code",
      "metadata": {
        "colab": {
          "base_uri": "https://localhost:8080/"
        },
        "id": "Vg5XrZQTaELi",
        "outputId": "b45747f8-65e3-4603-d3b0-0d87eb187ed0"
      },
      "source": [
        "from google.colab import drive\n",
        "drive.mount('/content/drive/')"
      ],
      "execution_count": 1,
      "outputs": [
        {
          "output_type": "stream",
          "name": "stdout",
          "text": [
            "Mounted at /content/drive/\n"
          ]
        }
      ]
    },
    {
      "cell_type": "code",
      "metadata": {
        "colab": {
          "base_uri": "https://localhost:8080/"
        },
        "id": "cX0lpKlraiX3",
        "outputId": "9da42fc7-a28e-4579-f223-07cfebba4bcc"
      },
      "source": [
        "# Importing packages\n",
        "from imblearn.over_sampling import SMOTE\n",
        "from scipy.stats import norm\n",
        "import pandas as pd # data processing\n",
        "import numpy as np # working with arrays\n",
        "from numpy import where\n",
        "from numpy import mean\n",
        "from sklearn.model_selection import KFold\n",
        "from sklearn.preprocessing import MinMaxScaler\n",
        "from sklearn.svm import SVR\n",
        "import itertools # construct specialized tools\n",
        "import matplotlib.pyplot as plt # visualizations\n",
        "from matplotlib import rcParams # plot size customization\n",
        "from termcolor import colored as cl # text customization\n",
        "from sklearn.linear_model import LogisticRegression # model algorithm\n",
        "from sklearn.preprocessing import StandardScaler # data normalization\n",
        "from sklearn.metrics import jaccard_score as jss # evaluation metric\n",
        "from sklearn.metrics import precision_score # evaluation metric\n",
        "from sklearn.metrics import classification_report # evaluation metric\n",
        "from sklearn.metrics import confusion_matrix # evaluation metric\n",
        "from sklearn.metrics import log_loss # evaluation metric\n",
        "from numpy import mean\n",
        "from sklearn.datasets import make_classification\n",
        "from sklearn.model_selection import cross_val_score\n",
        "from sklearn.model_selection import RepeatedStratifiedKFold\n",
        "from collections import Counter"
      ],
      "execution_count": 2,
      "outputs": [
        {
          "output_type": "stream",
          "name": "stderr",
          "text": [
            "/usr/local/lib/python3.7/dist-packages/sklearn/externals/six.py:31: FutureWarning: The module is deprecated in version 0.21 and will be removed in version 0.23 since we've dropped support for Python 2.7. Please rely on the official version of six (https://pypi.org/project/six/).\n",
            "  \"(https://pypi.org/project/six/).\", FutureWarning)\n",
            "/usr/local/lib/python3.7/dist-packages/sklearn/utils/deprecation.py:144: FutureWarning: The sklearn.neighbors.base module is  deprecated in version 0.22 and will be removed in version 0.24. The corresponding classes / functions should instead be imported from sklearn.neighbors. Anything that cannot be imported from sklearn.neighbors is now part of the private API.\n",
            "  warnings.warn(message, FutureWarning)\n"
          ]
        }
      ]
    },
    {
      "cell_type": "code",
      "metadata": {
        "colab": {
          "base_uri": "https://localhost:8080/",
          "height": 204
        },
        "id": "YIIrsvKRajsj",
        "outputId": "ef458a25-1e22-484e-ffbf-7852005a8e17"
      },
      "source": [
        "# Importing and cleaning the data\n",
        "train_data = pd.read_csv('/content/drive/MyDrive/Dataset/DBS.csv', sep=';')\n",
        "test_data = pd.read_csv('/content/drive/MyDrive/Dataset/DBS_2020.csv', sep=';')\n",
        "train_data.head()"
      ],
      "execution_count": 3,
      "outputs": [
        {
          "output_type": "execute_result",
          "data": {
            "text/html": [
              "<div>\n",
              "<style scoped>\n",
              "    .dataframe tbody tr th:only-of-type {\n",
              "        vertical-align: middle;\n",
              "    }\n",
              "\n",
              "    .dataframe tbody tr th {\n",
              "        vertical-align: top;\n",
              "    }\n",
              "\n",
              "    .dataframe thead th {\n",
              "        text-align: right;\n",
              "    }\n",
              "</style>\n",
              "<table border=\"1\" class=\"dataframe\">\n",
              "  <thead>\n",
              "    <tr style=\"text-align: right;\">\n",
              "      <th></th>\n",
              "      <th>access</th>\n",
              "      <th>tests</th>\n",
              "      <th>tests_grade</th>\n",
              "      <th>exam</th>\n",
              "      <th>project</th>\n",
              "      <th>project_grade</th>\n",
              "      <th>assignments</th>\n",
              "      <th>result_points</th>\n",
              "      <th>result_grade</th>\n",
              "      <th>graduate</th>\n",
              "      <th>year</th>\n",
              "      <th>acad_year</th>\n",
              "    </tr>\n",
              "  </thead>\n",
              "  <tbody>\n",
              "    <tr>\n",
              "      <th>0</th>\n",
              "      <td>1256</td>\n",
              "      <td>57.00</td>\n",
              "      <td>A</td>\n",
              "      <td>19</td>\n",
              "      <td>91.54</td>\n",
              "      <td>A</td>\n",
              "      <td>40.0</td>\n",
              "      <td>189.92</td>\n",
              "      <td>A</td>\n",
              "      <td>1</td>\n",
              "      <td>2019</td>\n",
              "      <td>2019/2020</td>\n",
              "    </tr>\n",
              "    <tr>\n",
              "      <th>1</th>\n",
              "      <td>985</td>\n",
              "      <td>42.87</td>\n",
              "      <td>B</td>\n",
              "      <td>19</td>\n",
              "      <td>75.96</td>\n",
              "      <td>A</td>\n",
              "      <td>13.7</td>\n",
              "      <td>189.43</td>\n",
              "      <td>A</td>\n",
              "      <td>1</td>\n",
              "      <td>2017</td>\n",
              "      <td>2017/2018</td>\n",
              "    </tr>\n",
              "    <tr>\n",
              "      <th>2</th>\n",
              "      <td>1455</td>\n",
              "      <td>54.50</td>\n",
              "      <td>A</td>\n",
              "      <td>16</td>\n",
              "      <td>96.79</td>\n",
              "      <td>A</td>\n",
              "      <td>40.0</td>\n",
              "      <td>188.91</td>\n",
              "      <td>A</td>\n",
              "      <td>1</td>\n",
              "      <td>2019</td>\n",
              "      <td>2019/2020</td>\n",
              "    </tr>\n",
              "    <tr>\n",
              "      <th>3</th>\n",
              "      <td>998</td>\n",
              "      <td>54.50</td>\n",
              "      <td>A</td>\n",
              "      <td>16</td>\n",
              "      <td>93.36</td>\n",
              "      <td>A</td>\n",
              "      <td>40.0</td>\n",
              "      <td>186.85</td>\n",
              "      <td>A</td>\n",
              "      <td>1</td>\n",
              "      <td>2019</td>\n",
              "      <td>2019/2020</td>\n",
              "    </tr>\n",
              "    <tr>\n",
              "      <th>4</th>\n",
              "      <td>1347</td>\n",
              "      <td>55.00</td>\n",
              "      <td>A</td>\n",
              "      <td>16</td>\n",
              "      <td>92.86</td>\n",
              "      <td>A</td>\n",
              "      <td>39.0</td>\n",
              "      <td>186.38</td>\n",
              "      <td>A</td>\n",
              "      <td>1</td>\n",
              "      <td>2019</td>\n",
              "      <td>2019/2020</td>\n",
              "    </tr>\n",
              "  </tbody>\n",
              "</table>\n",
              "</div>"
            ],
            "text/plain": [
              "   access  tests tests_grade  exam  ...  result_grade graduate  year  acad_year\n",
              "0    1256  57.00           A    19  ...             A        1  2019  2019/2020\n",
              "1     985  42.87           B    19  ...             A        1  2017  2017/2018\n",
              "2    1455  54.50           A    16  ...             A        1  2019  2019/2020\n",
              "3     998  54.50           A    16  ...             A        1  2019  2019/2020\n",
              "4    1347  55.00           A    16  ...             A        1  2019  2019/2020\n",
              "\n",
              "[5 rows x 12 columns]"
            ]
          },
          "metadata": {},
          "execution_count": 3
        }
      ]
    },
    {
      "cell_type": "code",
      "metadata": {
        "colab": {
          "base_uri": "https://localhost:8080/",
          "height": 204
        },
        "id": "xXb2AWyMaxFH",
        "outputId": "abb8c5f9-c366-4aaa-ce67-f84f4a8402a1"
      },
      "source": [
        "test_data.head()"
      ],
      "execution_count": 4,
      "outputs": [
        {
          "output_type": "execute_result",
          "data": {
            "text/html": [
              "<div>\n",
              "<style scoped>\n",
              "    .dataframe tbody tr th:only-of-type {\n",
              "        vertical-align: middle;\n",
              "    }\n",
              "\n",
              "    .dataframe tbody tr th {\n",
              "        vertical-align: top;\n",
              "    }\n",
              "\n",
              "    .dataframe thead th {\n",
              "        text-align: right;\n",
              "    }\n",
              "</style>\n",
              "<table border=\"1\" class=\"dataframe\">\n",
              "  <thead>\n",
              "    <tr style=\"text-align: right;\">\n",
              "      <th></th>\n",
              "      <th>access</th>\n",
              "      <th>tests</th>\n",
              "      <th>tests_grade</th>\n",
              "      <th>exam</th>\n",
              "      <th>project</th>\n",
              "      <th>project_grade</th>\n",
              "      <th>assignments</th>\n",
              "      <th>result_points</th>\n",
              "      <th>result_grade</th>\n",
              "      <th>graduate</th>\n",
              "      <th>year</th>\n",
              "      <th>acad_year</th>\n",
              "    </tr>\n",
              "  </thead>\n",
              "  <tbody>\n",
              "    <tr>\n",
              "      <th>0</th>\n",
              "      <td>794</td>\n",
              "      <td>68.10</td>\n",
              "      <td>A</td>\n",
              "      <td>19.40</td>\n",
              "      <td>100.23</td>\n",
              "      <td>A</td>\n",
              "      <td>37</td>\n",
              "      <td>235.34</td>\n",
              "      <td>A</td>\n",
              "      <td>1</td>\n",
              "      <td>2020</td>\n",
              "      <td>2020/2021</td>\n",
              "    </tr>\n",
              "    <tr>\n",
              "      <th>1</th>\n",
              "      <td>844</td>\n",
              "      <td>57.85</td>\n",
              "      <td>C</td>\n",
              "      <td>12.57</td>\n",
              "      <td>96.14</td>\n",
              "      <td>A</td>\n",
              "      <td>32</td>\n",
              "      <td>215.75</td>\n",
              "      <td>B</td>\n",
              "      <td>1</td>\n",
              "      <td>2020</td>\n",
              "      <td>2020/2021</td>\n",
              "    </tr>\n",
              "    <tr>\n",
              "      <th>2</th>\n",
              "      <td>658</td>\n",
              "      <td>64.60</td>\n",
              "      <td>B</td>\n",
              "      <td>17.57</td>\n",
              "      <td>101.59</td>\n",
              "      <td>A</td>\n",
              "      <td>37</td>\n",
              "      <td>224.27</td>\n",
              "      <td>B</td>\n",
              "      <td>1</td>\n",
              "      <td>2020</td>\n",
              "      <td>2020/2021</td>\n",
              "    </tr>\n",
              "    <tr>\n",
              "      <th>3</th>\n",
              "      <td>1193</td>\n",
              "      <td>56.93</td>\n",
              "      <td>C</td>\n",
              "      <td>13.28</td>\n",
              "      <td>102.31</td>\n",
              "      <td>A</td>\n",
              "      <td>36</td>\n",
              "      <td>216.56</td>\n",
              "      <td>B</td>\n",
              "      <td>1</td>\n",
              "      <td>2020</td>\n",
              "      <td>2020/2021</td>\n",
              "    </tr>\n",
              "    <tr>\n",
              "      <th>4</th>\n",
              "      <td>1400</td>\n",
              "      <td>61.35</td>\n",
              "      <td>C</td>\n",
              "      <td>15.40</td>\n",
              "      <td>93.72</td>\n",
              "      <td>B</td>\n",
              "      <td>34</td>\n",
              "      <td>214.72</td>\n",
              "      <td>B</td>\n",
              "      <td>1</td>\n",
              "      <td>2020</td>\n",
              "      <td>2020/2021</td>\n",
              "    </tr>\n",
              "  </tbody>\n",
              "</table>\n",
              "</div>"
            ],
            "text/plain": [
              "   access  tests tests_grade   exam  ...  result_grade graduate  year  acad_year\n",
              "0     794  68.10           A  19.40  ...             A        1  2020  2020/2021\n",
              "1     844  57.85           C  12.57  ...             B        1  2020  2020/2021\n",
              "2     658  64.60           B  17.57  ...             B        1  2020  2020/2021\n",
              "3    1193  56.93           C  13.28  ...             B        1  2020  2020/2021\n",
              "4    1400  61.35           C  15.40  ...             B        1  2020  2020/2021\n",
              "\n",
              "[5 rows x 12 columns]"
            ]
          },
          "metadata": {},
          "execution_count": 4
        }
      ]
    },
    {
      "cell_type": "code",
      "metadata": {
        "colab": {
          "base_uri": "https://localhost:8080/"
        },
        "id": "Cw0BuGJ5bAFr",
        "outputId": "3e779e7a-c962-44e7-c94e-a6f6568f66d9"
      },
      "source": [
        "print(train_data.shape)\n",
        "print(test_data.shape)\n",
        "print(list(train_data.columns))"
      ],
      "execution_count": 6,
      "outputs": [
        {
          "output_type": "stream",
          "name": "stdout",
          "text": [
            "(261, 12)\n",
            "(60, 12)\n",
            "['access', 'tests', 'tests_grade', 'exam', 'project', 'project_grade', 'assignments', 'result_points', 'result_grade', 'graduate', 'year', 'acad_year']\n"
          ]
        }
      ]
    },
    {
      "cell_type": "code",
      "metadata": {
        "colab": {
          "base_uri": "https://localhost:8080/"
        },
        "id": "ptkCdcUYbCca",
        "outputId": "baec454f-a910-476f-d0b6-34c9ef371b1a"
      },
      "source": [
        "train_data['graduate'].value_counts()"
      ],
      "execution_count": 7,
      "outputs": [
        {
          "output_type": "execute_result",
          "data": {
            "text/plain": [
              "1    210\n",
              "0     51\n",
              "Name: graduate, dtype: int64"
            ]
          },
          "metadata": {},
          "execution_count": 7
        }
      ]
    },
    {
      "cell_type": "code",
      "metadata": {
        "colab": {
          "base_uri": "https://localhost:8080/"
        },
        "id": "rC7AfV50bFpy",
        "outputId": "78b6f8d1-c045-4fe7-e812-105dbb89a7f8"
      },
      "source": [
        "test_data['graduate'].value_counts()"
      ],
      "execution_count": 9,
      "outputs": [
        {
          "output_type": "execute_result",
          "data": {
            "text/plain": [
              "1    46\n",
              "0    14\n",
              "Name: graduate, dtype: int64"
            ]
          },
          "metadata": {},
          "execution_count": 9
        }
      ]
    },
    {
      "cell_type": "code",
      "metadata": {
        "colab": {
          "base_uri": "https://localhost:8080/"
        },
        "id": "9JvZi1ZRbHvi",
        "outputId": "20b61156-fcaa-4cc5-a6c8-2a1537f1ba4a"
      },
      "source": [
        "X_train = np.asarray(train_data[['access', 'tests', 'assignments']])\n",
        "y_train = np.asarray(train_data['graduate'])\n",
        "\n",
        "print(cl('X_var samples : ', attrs = ['bold']), X_train[:5])\n",
        "print(cl('y_var samples : ', attrs = ['bold']), y_train[:5])"
      ],
      "execution_count": 10,
      "outputs": [
        {
          "output_type": "stream",
          "name": "stdout",
          "text": [
            "\u001b[1mX_var samples : \u001b[0m [[1256.     57.     40.  ]\n",
            " [ 985.     42.87   13.7 ]\n",
            " [1455.     54.5    40.  ]\n",
            " [ 998.     54.5    40.  ]\n",
            " [1347.     55.     39.  ]]\n",
            "\u001b[1my_var samples : \u001b[0m [1 1 1 1 1]\n"
          ]
        }
      ]
    },
    {
      "cell_type": "code",
      "metadata": {
        "colab": {
          "base_uri": "https://localhost:8080/"
        },
        "id": "lf5xJDa0bNM5",
        "outputId": "a92c28e8-2460-4e90-afcc-f4a144c9ef9c"
      },
      "source": [
        "X_test = np.asarray(test_data[['access', 'tests', 'assignments']])\n",
        "y_test = np.asarray(test_data['graduate'])\n",
        "\n",
        "print(cl('X_var samples : ', attrs = ['bold']), X_test[:5])\n",
        "print(cl('y_var samples : ', attrs = ['bold']), y_test[:5])"
      ],
      "execution_count": 11,
      "outputs": [
        {
          "output_type": "stream",
          "name": "stdout",
          "text": [
            "\u001b[1mX_var samples : \u001b[0m [[ 794.     68.1    37.  ]\n",
            " [ 844.     57.85   32.  ]\n",
            " [ 658.     64.6    37.  ]\n",
            " [1193.     56.93   36.  ]\n",
            " [1400.     61.35   34.  ]]\n",
            "\u001b[1my_var samples : \u001b[0m [1 1 1 1 1]\n"
          ]
        }
      ]
    },
    {
      "cell_type": "code",
      "metadata": {
        "colab": {
          "base_uri": "https://localhost:8080/",
          "height": 297
        },
        "id": "-vmzQicwbP_I",
        "outputId": "55bdd8a2-d0ba-43fd-e322-fb09f7477b4e"
      },
      "source": [
        "# Data normalization with sklearn\n",
        "from sklearn import preprocessing\n",
        "standardized_X = preprocessing.scale(X_test)\n",
        "df = pd.DataFrame(standardized_X)\n",
        "df.describe()"
      ],
      "execution_count": 13,
      "outputs": [
        {
          "output_type": "execute_result",
          "data": {
            "text/html": [
              "<div>\n",
              "<style scoped>\n",
              "    .dataframe tbody tr th:only-of-type {\n",
              "        vertical-align: middle;\n",
              "    }\n",
              "\n",
              "    .dataframe tbody tr th {\n",
              "        vertical-align: top;\n",
              "    }\n",
              "\n",
              "    .dataframe thead th {\n",
              "        text-align: right;\n",
              "    }\n",
              "</style>\n",
              "<table border=\"1\" class=\"dataframe\">\n",
              "  <thead>\n",
              "    <tr style=\"text-align: right;\">\n",
              "      <th></th>\n",
              "      <th>0</th>\n",
              "      <th>1</th>\n",
              "      <th>2</th>\n",
              "    </tr>\n",
              "  </thead>\n",
              "  <tbody>\n",
              "    <tr>\n",
              "      <th>count</th>\n",
              "      <td>6.000000e+01</td>\n",
              "      <td>6.000000e+01</td>\n",
              "      <td>6.000000e+01</td>\n",
              "    </tr>\n",
              "    <tr>\n",
              "      <th>mean</th>\n",
              "      <td>-6.291264e-17</td>\n",
              "      <td>4.070818e-16</td>\n",
              "      <td>7.031412e-17</td>\n",
              "    </tr>\n",
              "    <tr>\n",
              "      <th>std</th>\n",
              "      <td>1.008439e+00</td>\n",
              "      <td>1.008439e+00</td>\n",
              "      <td>1.008439e+00</td>\n",
              "    </tr>\n",
              "    <tr>\n",
              "      <th>min</th>\n",
              "      <td>-2.201088e+00</td>\n",
              "      <td>-2.870371e+00</td>\n",
              "      <td>-2.841506e+00</td>\n",
              "    </tr>\n",
              "    <tr>\n",
              "      <th>25%</th>\n",
              "      <td>-5.506751e-01</td>\n",
              "      <td>-6.288193e-01</td>\n",
              "      <td>-8.207221e-01</td>\n",
              "    </tr>\n",
              "    <tr>\n",
              "      <th>50%</th>\n",
              "      <td>-1.676396e-01</td>\n",
              "      <td>3.510590e-01</td>\n",
              "      <td>2.428486e-01</td>\n",
              "    </tr>\n",
              "    <tr>\n",
              "      <th>75%</th>\n",
              "      <td>5.836475e-01</td>\n",
              "      <td>7.641450e-01</td>\n",
              "      <td>8.809911e-01</td>\n",
              "    </tr>\n",
              "    <tr>\n",
              "      <th>max</th>\n",
              "      <td>2.820037e+00</td>\n",
              "      <td>1.491048e+00</td>\n",
              "      <td>1.306419e+00</td>\n",
              "    </tr>\n",
              "  </tbody>\n",
              "</table>\n",
              "</div>"
            ],
            "text/plain": [
              "                  0             1             2\n",
              "count  6.000000e+01  6.000000e+01  6.000000e+01\n",
              "mean  -6.291264e-17  4.070818e-16  7.031412e-17\n",
              "std    1.008439e+00  1.008439e+00  1.008439e+00\n",
              "min   -2.201088e+00 -2.870371e+00 -2.841506e+00\n",
              "25%   -5.506751e-01 -6.288193e-01 -8.207221e-01\n",
              "50%   -1.676396e-01  3.510590e-01  2.428486e-01\n",
              "75%    5.836475e-01  7.641450e-01  8.809911e-01\n",
              "max    2.820037e+00  1.491048e+00  1.306419e+00"
            ]
          },
          "metadata": {},
          "execution_count": 13
        }
      ]
    },
    {
      "cell_type": "code",
      "metadata": {
        "colab": {
          "base_uri": "https://localhost:8080/",
          "height": 282
        },
        "id": "qUVQHvGkbSRx",
        "outputId": "fcc5a81c-660a-4f4d-af4c-95a4e1640d93"
      },
      "source": [
        "# Summarize class distribution\n",
        "counter = Counter(y_train)\n",
        "print(counter)\n",
        "\n",
        "for label, _ in counter.items():\n",
        "\trow_ix = where(y_train == label)[0]\n",
        "\tplt.scatter(X_train[row_ix, 0], X_train[row_ix, 1], label=str(label))\n",
        "plt.legend()\n",
        "plt.show()"
      ],
      "execution_count": 14,
      "outputs": [
        {
          "output_type": "stream",
          "name": "stdout",
          "text": [
            "Counter({1: 210, 0: 51})\n"
          ]
        },
        {
          "output_type": "display_data",
          "data": {
            "image/png": "[encoded data removed]",
            "text/plain": [
              "<Figure size 432x288 with 1 Axes>"
            ]
          },
          "metadata": {
            "needs_background": "light"
          }
        }
      ]
    },
    {
      "cell_type": "code",
      "metadata": {
        "colab": {
          "base_uri": "https://localhost:8080/"
        },
        "id": "pT0XCFIvbVaB",
        "outputId": "e8a28c98-4b5d-4eda-80b1-5bc91bfce366"
      },
      "source": [
        "# Transform the dataset\n",
        "sm = SMOTE(random_state = 2) \n",
        "X_train_res, y_train_res = sm.fit_sample(X_train, y_train)"
      ],
      "execution_count": 15,
      "outputs": [
        {
          "output_type": "stream",
          "name": "stderr",
          "text": [
            "/usr/local/lib/python3.7/dist-packages/sklearn/utils/deprecation.py:87: FutureWarning: Function safe_indexing is deprecated; safe_indexing is deprecated in version 0.22 and will be removed in version 0.24.\n",
            "  warnings.warn(msg, category=FutureWarning)\n"
          ]
        }
      ]
    },
    {
      "cell_type": "code",
      "metadata": {
        "colab": {
          "base_uri": "https://localhost:8080/"
        },
        "id": "L6bogh0tbY5R",
        "outputId": "e398ceac-2c33-40fd-e8f6-98730c24b05a"
      },
      "source": [
        "# Summarize the new class distribution\n",
        "counter = Counter(y_train_res)\n",
        "print(counter)"
      ],
      "execution_count": 16,
      "outputs": [
        {
          "output_type": "stream",
          "name": "stdout",
          "text": [
            "Counter({1: 210, 0: 210})\n"
          ]
        }
      ]
    },
    {
      "cell_type": "code",
      "metadata": {
        "colab": {
          "base_uri": "https://localhost:8080/",
          "height": 265
        },
        "id": "k9EySiQqbapZ",
        "outputId": "e3fb4596-8cb6-4de0-c743-72e6b5bd1d56"
      },
      "source": [
        "for label, _ in counter.items():\n",
        "\trow_ix = where(y_train_res == label)[0]\n",
        "\tplt.scatter(X_train_res[row_ix, 0], X_train_res[row_ix, 1], label=str(label))\n",
        "plt.legend()\n",
        "plt.show()"
      ],
      "execution_count": 18,
      "outputs": [
        {
          "output_type": "display_data",
          "data": {
            "image/png": "[encoded data removed]",
            "text/plain": [
              "<Figure size 432x288 with 1 Axes>"
            ]
          },
          "metadata": {
            "needs_background": "light"
          }
        }
      ]
    },
    {
      "cell_type": "code",
      "metadata": {
        "colab": {
          "base_uri": "https://localhost:8080/"
        },
        "id": "7RSeNWp2bcWQ",
        "outputId": "8f8d7982-e755-4679-f2b8-f72f1845146e"
      },
      "source": [
        "# Modelling\n",
        "lr1 = LogisticRegression()\n",
        "lr1.fit(X_train_res, y_train_res)\n",
        "print(cl(lr1, attrs = ['bold']))"
      ],
      "execution_count": 19,
      "outputs": [
        {
          "output_type": "stream",
          "name": "stdout",
          "text": [
            "\u001b[1mLogisticRegression(C=1.0, class_weight=None, dual=False, fit_intercept=True,\n",
            "                   intercept_scaling=1, l1_ratio=None, max_iter=100,\n",
            "                   multi_class='auto', n_jobs=None, penalty='l2',\n",
            "                   random_state=None, solver='lbfgs', tol=0.0001, verbose=0,\n",
            "                   warm_start=False)\u001b[0m\n"
          ]
        }
      ]
    },
    {
      "cell_type": "code",
      "metadata": {
        "colab": {
          "base_uri": "https://localhost:8080/"
        },
        "id": "Icund8g0bgbY",
        "outputId": "3bfba7d8-6824-42e8-ff62-e4a00f869a79"
      },
      "source": [
        "# Evaluate pipeline\n",
        "cv = RepeatedStratifiedKFold(n_splits=5, n_repeats=2, random_state=1)\n",
        "scores = cross_val_score(lr1, X_test, y_test, scoring='roc_auc', cv=cv, n_jobs=-1)\n",
        "print('Mean ROC AUC: %.3f' % mean(scores))"
      ],
      "execution_count": 20,
      "outputs": [
        {
          "output_type": "stream",
          "name": "stdout",
          "text": [
            "Mean ROC AUC: 0.979\n"
          ]
        }
      ]
    },
    {
      "cell_type": "code",
      "metadata": {
        "id": "4poZANhzbjkf"
      },
      "source": [
        "# Predictions\n",
        "yhat = lr1.predict(X_test)\n",
        "yhat_prob = lr1.predict_proba(X_test)"
      ],
      "execution_count": 21,
      "outputs": []
    },
    {
      "cell_type": "code",
      "metadata": {
        "colab": {
          "base_uri": "https://localhost:8080/"
        },
        "id": "ynrRowO7bllA",
        "outputId": "c9cb4baa-bca9-4e08-8164-2bf8964ae882"
      },
      "source": [
        "# Evaluate with Mean Absolute Error and print Model Accuracy\n",
        "from sklearn.metrics import mean_absolute_error\n",
        "def evaluate(lr1, x_scaled, y_test):\n",
        "    predictions = lr1.predict(x_scaled)\n",
        "    errors = abs(predictions - y_test)\n",
        "    mape = mean_absolute_error(predictions, y_test)*100\n",
        "    accuracy = 100 - mape\n",
        "    print('Model Performance')\n",
        "    print('Average Error: {:0.4f}'.format(np.mean(errors)))\n",
        "    print('Accuracy = {:0.2f}%'.format(accuracy))\n",
        "\n",
        "base_accuracy = evaluate(lr1, X_test, y_test)"
      ],
      "execution_count": 26,
      "outputs": [
        {
          "output_type": "stream",
          "name": "stdout",
          "text": [
            "Model Performance\n",
            "Average Error: 0.0667\n",
            "Accuracy = 93.33%\n"
          ]
        }
      ]
    },
    {
      "cell_type": "code",
      "metadata": {
        "colab": {
          "base_uri": "https://localhost:8080/"
        },
        "id": "-iTaGDCqbuVA",
        "outputId": "bf993587-1a8c-4977-8b65-d3b5e172056e"
      },
      "source": [
        "# Classificaton report\n",
        "print(cl(classification_report(y_test, yhat), attrs = ['bold']))"
      ],
      "execution_count": 27,
      "outputs": [
        {
          "output_type": "stream",
          "name": "stdout",
          "text": [
            "\u001b[1m              precision    recall  f1-score   support\n",
            "\n",
            "           0       0.86      0.86      0.86        14\n",
            "           1       0.96      0.96      0.96        46\n",
            "\n",
            "    accuracy                           0.93        60\n",
            "   macro avg       0.91      0.91      0.91        60\n",
            "weighted avg       0.93      0.93      0.93        60\n",
            "\u001b[0m\n"
          ]
        }
      ]
    },
    {
      "cell_type": "code",
      "metadata": {
        "colab": {
          "base_uri": "https://localhost:8080/",
          "height": 328
        },
        "id": "N0X1lTgcb6S3",
        "outputId": "ff0f4e80-e791-4b99-bc9d-bca2a9e05835"
      },
      "source": [
        "# Confusion matrix\n",
        "import itertools\n",
        "\n",
        "def plot_confusion_matrix(cm, classes,\n",
        "                          normalize=False,\n",
        "                          title='Confusion matrix',\n",
        "                          cmap=plt.cm.Blues):\n",
        "    \"\"\"\n",
        "    This function prints and plots the confusion matrix.\n",
        "    Normalization can be applied by setting `normalize=True`.\n",
        "    \"\"\"\n",
        "    plt.imshow(cm, interpolation='nearest', cmap=cmap)\n",
        "    plt.title(title)\n",
        "    plt.colorbar()\n",
        "    tick_marks = np.arange(len(classes))\n",
        "    plt.xticks(tick_marks, classes, rotation=0)\n",
        "    plt.yticks(tick_marks, classes)\n",
        "\n",
        "    if normalize:\n",
        "        cm = cm.astype('float') / cm.sum(axis=1)[:, np.newaxis]\n",
        "       \n",
        "    else:\n",
        "        1\n",
        "\n",
        "\n",
        "\n",
        "    thresh = cm.max() / 2.\n",
        "    for i, j in itertools.product(range(cm.shape[0]), range(cm.shape[1])):\n",
        "        plt.text(j, i, cm[i, j],\n",
        "                 horizontalalignment=\"center\",\n",
        "                 color=\"white\" if cm[i, j] > thresh else \"black\")\n",
        "\n",
        "    plt.tight_layout()\n",
        "    plt.ylabel('True label')\n",
        "    plt.xlabel('Predicted label')\n",
        "y_pre = lr1.predict(X_test)\n",
        "\n",
        "cnf_matrix = confusion_matrix(y_test, y_pre)\n",
        "\n",
        "print(\"Recall metric in the testing dataset: {}%\".format(100*cnf_matrix[1,1]/(cnf_matrix[1,0]+cnf_matrix[1,1])))\n",
        "#print(\"Precision metric in the testing dataset: {}%\".format(100*cnf_matrix[0,0]/(cnf_matrix[0,0]+cnf_matrix[1,0])))\n",
        "# Plot non-normalized confusion matrix\n",
        "class_names = [\"Not Churn\", \"Churn\"]\n",
        "plt.figure()\n",
        "plot_confusion_matrix(cnf_matrix , classes=class_names, title='Confusion matrix')\n",
        "plt.show()"
      ],
      "execution_count": 33,
      "outputs": [
        {
          "output_type": "stream",
          "name": "stdout",
          "text": [
            "Recall metric in the testing dataset: 95.65217391304348%\n"
          ]
        },
        {
          "output_type": "display_data",
          "data": {
            "image/png": "[encoded data removed]",
            "text/plain": [
              "<Figure size 432x288 with 2 Axes>"
            ]
          },
          "metadata": {
            "needs_background": "light"
          }
        }
      ]
    },
    {
      "cell_type": "code",
      "metadata": {
        "colab": {
          "base_uri": "https://localhost:8080/",
          "height": 279
        },
        "id": "P61k2Ss5cPW-",
        "outputId": "0dfbd978-0ebe-4ba4-cfe3-f04bd4ec8d62"
      },
      "source": [
        "# Import the metrics class\n",
        "from sklearn import metrics\n",
        "y_pred_proba = lr1.predict_proba(X_test)[::,1]\n",
        "fpr, tpr, _ = metrics.roc_curve(y_test,  y_pred_proba)\n",
        "auc = metrics.roc_auc_score(y_test, y_pred_proba)\n",
        "plt.ylabel('True Positive Rate')\n",
        "plt.xlabel('False Positive Rate')\n",
        "plt.plot(fpr,tpr,label=\"Logistic regression, AUC=\"+str(auc))\n",
        "plt.legend(loc=4)\n",
        "plt.show()"
      ],
      "execution_count": 30,
      "outputs": [
        {
          "output_type": "display_data",
          "data": {
            "image/png": "[encoded data removed]",
            "text/plain": [
              "<Figure size 432x288 with 1 Axes>"
            ]
          },
          "metadata": {
            "needs_background": "light"
          }
        }
      ]
    },
    {
      "cell_type": "code",
      "metadata": {
        "id": "WCQKbxrrcUhN"
      },
      "source": [
        ""
      ],
      "execution_count": null,
      "outputs": []
    }
  ]
}